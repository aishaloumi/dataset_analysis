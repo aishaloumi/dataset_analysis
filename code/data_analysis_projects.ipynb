{
  "cells": [
    {
      "cell_type": "markdown",
      "metadata": {
        "id": "view-in-github",
        "colab_type": "text"
      },
      "source": [
        "<a href=\"https://colab.research.google.com/github/aishaloumi/dataset_analysis/blob/main/code/data_analysis_projects.ipynb\" target=\"_parent\"><img src=\"https://colab.research.google.com/assets/colab-badge.svg\" alt=\"Open In Colab\"/></a>"
      ]
    },
    {
      "cell_type": "markdown",
      "metadata": {
        "id": "GjL61tpNz8T8"
      },
      "source": [
        "# Python Data Analysis Projects"
      ]
    },
    {
      "cell_type": "markdown",
      "metadata": {
        "id": "HYCimQfPz8T_"
      },
      "source": [
        "# Project #01 - Streaming Services Movies Analysis (Netflix, Amazon Prime, Disney+, Hulu)"
      ]
    },
    {
      "cell_type": "markdown",
      "metadata": {
        "id": "siwdZHwMz8T_"
      },
      "source": [
        "Helpful Link: https://www.businessinsider.com/streaming-comparison-netflix-hulu-disney-plus-hbo-max-prime-2020-6"
      ]
    },
    {
      "cell_type": "markdown",
      "metadata": {
        "id": "58mpsRYaCARR"
      },
      "source": [
        "#Movies on Streamig (OTT) Platforms an Exploratory Analysis\n",
        "\n",
        "Here we take a look at a cool movies dataset where take a look a movies on:\n",
        "- Netflix\n",
        "- Amazon Prime\n",
        "- Hulu\n",
        "- Disney+\n",
        "\n",
        "**Note: OTT** stands for Over-the-top"
      ]
    },
    {
      "cell_type": "code",
      "execution_count": null,
      "metadata": {
        "id": "vGE6O67wz8UA"
      },
      "outputs": [],
      "source": []
    },
    {
      "cell_type": "markdown",
      "metadata": {
        "id": "c8iAl7RRz8UA"
      },
      "source": [
        "=========="
      ]
    },
    {
      "cell_type": "markdown",
      "metadata": {
        "id": "QdPvP-uNz8UB"
      },
      "source": [
        "# Project #02 - Sports Analysis Olympic Data"
      ]
    },
    {
      "cell_type": "markdown",
      "metadata": {
        "id": "DJtmG030z8UB"
      },
      "source": [
        "- Data Source: https://www.kaggle.com/the-guardian/olympic-games\n",
        "- Helpful Link: https://towardsdatascience.com/visual-analysis-of-olympics-data-16273f7c6cf2\n",
        "- Dataset URL - https://www.kaggle.com/the-guardian/olympic-games"
      ]
    },
    {
      "cell_type": "code",
      "execution_count": null,
      "metadata": {
        "id": "prJmx6EEz8UB"
      },
      "outputs": [],
      "source": []
    },
    {
      "cell_type": "markdown",
      "metadata": {
        "id": "T_NiQmtqz8UC"
      },
      "source": [
        "=========="
      ]
    },
    {
      "cell_type": "markdown",
      "metadata": {
        "id": "Ws94YxFxz8UC"
      },
      "source": [
        "# Project #3 - 911 Calls [EDA]"
      ]
    },
    {
      "cell_type": "code",
      "execution_count": null,
      "metadata": {
        "id": "PlcJqkqfz8UC"
      },
      "outputs": [],
      "source": []
    },
    {
      "cell_type": "markdown",
      "metadata": {
        "id": "bVRAbRscz8UC"
      },
      "source": [
        "=========="
      ]
    },
    {
      "cell_type": "markdown",
      "metadata": {
        "id": "9eAy7xa3z8UC"
      },
      "source": [
        "# GOOD LUCK!"
      ]
    }
  ],
  "metadata": {
    "kernelspec": {
      "display_name": "Python 3",
      "language": "python",
      "name": "python3"
    },
    "language_info": {
      "codemirror_mode": {
        "name": "ipython",
        "version": 3
      },
      "file_extension": ".py",
      "mimetype": "text/x-python",
      "name": "python",
      "nbconvert_exporter": "python",
      "pygments_lexer": "ipython3",
      "version": "3.8.3"
    },
    "colab": {
      "provenance": [],
      "include_colab_link": true
    }
  },
  "nbformat": 4,
  "nbformat_minor": 0
}